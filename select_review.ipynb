{
 "cells": [
  {
   "cell_type": "code",
   "execution_count": null,
   "metadata": {},
   "outputs": [],
   "source": [
    "import numpy as np\n",
    "from numpy import dot\n",
    "from numpy.linalg import norm\n",
    "import pandas as pd\n",
    "import pickle\n",
    "\n",
    "\n",
    "import torch\n",
    "\n",
    "from sentence_transformers import SentenceTransformer\n",
    "from summarizer import Summarizer\n",
    "\n",
    "import warnings\n",
    "warnings.filterwarnings(action='ignore')"
   ]
  },
  {
   "cell_type": "code",
   "execution_count": null,
   "metadata": {},
   "outputs": [],
   "source": [
    "device = torch.device('cuda' if torch.cuda.is_available() else 'cpu')\n",
    "torch.manual_seed(2891)\n",
    "num_gpu = 1\n",
    "if torch.cuda.device_count() > 1:\n",
    "    num_gpu = torch.cuda.device_count()\n",
    "print(\"Let's use\", num_gpu, \"GPUs!\") # 1\n",
    "print('device', device) # cuda"
   ]
  },
  {
   "cell_type": "code",
   "execution_count": null,
   "metadata": {},
   "outputs": [],
   "source": [
    "summary_model = Summarizer()\n",
    "emb_model =  SentenceTransformer('all-MiniLM-L6-v2', device='cuda').to(device)"
   ]
  },
  {
   "cell_type": "code",
   "execution_count": null,
   "metadata": {},
   "outputs": [],
   "source": [
    "def cosine_sim(A, B):\n",
    "  return dot(A, B)/(norm(A)*norm(B))"
   ]
  },
  {
   "cell_type": "code",
   "execution_count": null,
   "metadata": {},
   "outputs": [],
   "source": [
    "def getItemReviewEmbDict_n(total_review,n,file_nm):\n",
    "    pid_list = total_review['product_id'].unique().tolist()\n",
    "    p_review_dict = {}\n",
    "    for pid in pid_list:\n",
    "        i_reviews = total_review[total_review['product_id']==pid]['review']\n",
    "        tensor_list = []\n",
    "        if len(i_reviews)<=n:\n",
    "            for i in range(len(i_reviews)):\n",
    "                review_tensor = emb_model.encode(i_reviews.iloc[i], convert_to_tensor=True)\n",
    "                tensor_list.append(review_tensor)\n",
    "        else:\n",
    "            tot_reviews = ' '.join(train_df[train_df['product_id']==pid]['review'].tolist())\n",
    "            summary_reviews = summary_model(tot_reviews)\n",
    "            u_summary_array = emb_model.encode(summary_reviews)\n",
    "            sim_dict={}\n",
    "            for i in range(len(i_reviews)):\n",
    "                review_array = emb_model.encode(i_reviews.iloc[i])\n",
    "                cos_sim = cosine_sim(u_summary_array,review_array)\n",
    "                review_tensor = torch.tensor(review_array).to(device)\n",
    "                sim_dict[review_tensor] = cos_sim\n",
    "            sorted_dict = sorted(sim_dict.items(),key = lambda item: item[1],reverse=True)[:n]\n",
    "            tensor_list = [x for x,y in sorted_dict]\n",
    "        i_mean_tensor = torch.mean(torch.stack(tensor_list, 0),0)\n",
    "        p_review_dict[pid]=i_mean_tensor\n",
    "    file_name = file_nm+'.item_rv_dict_bertsum'+str(n)+'.pickle'\n",
    "    with open(file_name,'wb') as fw:\n",
    "        pickle.dump(p_review_dict, fw)"
   ]
  },
  {
   "cell_type": "code",
   "execution_count": null,
   "metadata": {},
   "outputs": [],
   "source": [
    "train_df = pd.read_csv('data/patio.train_review.review', header=None,sep='\\t', names=['user_id', 'product_id', 'review'])\n",
    "total_df = pd.read_csv('data/patio.total_review.review', header=None,sep='\\t', names=['product_id', 'review'])"
   ]
  },
  {
   "cell_type": "code",
   "execution_count": null,
   "metadata": {},
   "outputs": [],
   "source": [
    "getItemReviewEmbDict_n(total_df,80,'patio')"
   ]
  }
 ],
 "metadata": {
  "kernelspec": {
   "display_name": "base",
   "language": "python",
   "name": "python3"
  },
  "language_info": {
   "codemirror_mode": {
    "name": "ipython",
    "version": 3
   },
   "file_extension": ".py",
   "mimetype": "text/x-python",
   "name": "python",
   "nbconvert_exporter": "python",
   "pygments_lexer": "ipython3",
   "version": "3.9.13"
  },
  "orig_nbformat": 4
 },
 "nbformat": 4,
 "nbformat_minor": 2
}
